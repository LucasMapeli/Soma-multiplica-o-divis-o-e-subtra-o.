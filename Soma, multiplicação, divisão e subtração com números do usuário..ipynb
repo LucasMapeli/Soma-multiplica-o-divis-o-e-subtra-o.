{
 "cells": [
  {
   "cell_type": "markdown",
   "metadata": {},
   "source": [
    "# Soma, multiplicação, divisão e subtração com números digitados pelo usuário. Podendo usar números quebrados ou inteiros."
   ]
  },
  {
   "cell_type": "markdown",
   "metadata": {},
   "source": [
    "## Soma com números digitados pelo usuário."
   ]
  },
  {
   "cell_type": "code",
   "execution_count": 1,
   "metadata": {},
   "outputs": [
    {
     "name": "stdout",
     "output_type": "stream",
     "text": [
      "Digite o seu primeiro número:12.5\n",
      "Digite o seu segundo número:14.5\n",
      "O tipo de a é <class 'float'>\n",
      "O tipo de b é <class 'float'>\n",
      "A soma de 12.5 com 14.5 é 27.0\n"
     ]
    }
   ],
   "source": [
    "# Soma qualquer valor\n",
    "def main():\n",
    "    # comandos\n",
    "    a = float(input(\"Digite o seu primeiro número:\"))\n",
    "    b = float(input(\"Digite o seu segundo número:\"))\n",
    "    soma = a + b\n",
    " \n",
    "    print(\"O tipo de a é\",type(a))\n",
    "    print(\"O tipo de b é\",type(b))\n",
    "    print(\"A soma de\", a, \"com\", b, \"é\", soma)\n",
    "\n",
    "main()"
   ]
  },
  {
   "cell_type": "markdown",
   "metadata": {},
   "source": [
    "## Multiplicação com números digitados pelo usuário."
   ]
  },
  {
   "cell_type": "code",
   "execution_count": 2,
   "metadata": {},
   "outputs": [
    {
     "name": "stdout",
     "output_type": "stream",
     "text": [
      "Digite o seu primeiro número:10\n",
      "Digite o seu segundo número:90\n",
      "A multiplicação entre 10.0 e 90.0 é igual a 900.0\n"
     ]
    }
   ],
   "source": [
    "def main():\n",
    "    primeiro_numero = float(input(\"Digite o seu primeiro número:\"))\n",
    "    segundo_numero = float(input(\"Digite o seu segundo número:\"))\n",
    "    multiplicacao = primeiro_numero * segundo_numero\n",
    "    print(f\"A multiplicação entre {primeiro_numero} e {segundo_numero} é igual a {multiplicacao}\")\n",
    "main()"
   ]
  },
  {
   "cell_type": "markdown",
   "metadata": {},
   "source": [
    "## Divisão com números digitados pelo usuário."
   ]
  },
  {
   "cell_type": "code",
   "execution_count": 3,
   "metadata": {},
   "outputs": [
    {
     "name": "stdout",
     "output_type": "stream",
     "text": [
      "Digite o seu primeiro número:40\n",
      "Digite o seu segundo número:20\n",
      "A divisão entre 40.0 e 20.0 = 2.0\n"
     ]
    }
   ],
   "source": [
    "def main():\n",
    "    primeiro_numero = float(input(\"Digite o seu primeiro número:\"))\n",
    "    segundo_numero = float(input(\"Digite o seu segundo número:\"))\n",
    "    divisao = primeiro_numero / segundo_numero\n",
    "    print(\"A divisão entre {0} e {1} = {2}\".format(primeiro_numero,segundo_numero,divisao))\n",
    "main()"
   ]
  },
  {
   "cell_type": "markdown",
   "metadata": {},
   "source": [
    "## Subtração de quatro números digitados pelo usuário."
   ]
  },
  {
   "cell_type": "code",
   "execution_count": 4,
   "metadata": {},
   "outputs": [
    {
     "name": "stdout",
     "output_type": "stream",
     "text": [
      "Digite o seu primeiro número:100\n",
      "Digite o seu segundo número:10\n",
      "Digite o seu terceiro número:30\n",
      "Digite o seu quarto número:50\n",
      "A subtração entre 100.0 e 10.0 e 30.0 e 50.0 = 10.0\n"
     ]
    }
   ],
   "source": [
    "def main():\n",
    "    primeiro_numero = float(input(\"Digite o seu primeiro número:\"))\n",
    "    segundo_numero = float(input(\"Digite o seu segundo número:\"))\n",
    "    terceiro_numero = float(input(\"Digite o seu terceiro número:\"))\n",
    "    quarto_numero = float(input(\"Digite o seu quarto número:\"))\n",
    "    subtracao = primeiro_numero - segundo_numero - terceiro_numero - quarto_numero\n",
    "    print(\"A subtração entre {0} e {1} e {2} e {3} = {4}\".format(primeiro_numero,segundo_numero,\n",
    "                                                                 terceiro_numero,quarto_numero,subtracao))\n",
    "main()"
   ]
  },
  {
   "cell_type": "code",
   "execution_count": null,
   "metadata": {},
   "outputs": [],
   "source": []
  }
 ],
 "metadata": {
  "kernelspec": {
   "display_name": "Python 3",
   "language": "python",
   "name": "python3"
  },
  "language_info": {
   "codemirror_mode": {
    "name": "ipython",
    "version": 3
   },
   "file_extension": ".py",
   "mimetype": "text/x-python",
   "name": "python",
   "nbconvert_exporter": "python",
   "pygments_lexer": "ipython3",
   "version": "3.8.3"
  }
 },
 "nbformat": 4,
 "nbformat_minor": 4
}
